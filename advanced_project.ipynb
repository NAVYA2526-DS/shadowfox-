{
  "nbformat": 4,
  "nbformat_minor": 0,
  "metadata": {
    "colab": {
      "provenance": []
    },
    "kernelspec": {
      "name": "python3",
      "display_name": "Python 3"
    },
    "language_info": {
      "name": "python"
    }
  },
  "cells": [
    {
      "source": [
        "import pandas as pd\n",
        "\n",
        "# Replace 'your_data_file.csv' with the actual name of your data file\n",
        "# If your file is in Excel format, use pd.read_excel('your_data_file.xlsx')\n",
        "# The user was using pd.read_csv() which is for CSV files.\n",
        "# We need to use pd.read_excel() for Excel files (.xlsx).\n",
        "df = pd.read_excel('/content/IPL sample data.xlsx')\n",
        "\n",
        "# Display the first few rows of the DataFrame to make sure it loaded correctly\n",
        "print(df.head())\n",
        "\n",
        "# Define your weights (these are example values, replace with your chosen weights)\n",
        "weights = {\n",
        "    'WCP': 1,\n",
        "    'WGT': 1.5,\n",
        "    'WC': 5,\n",
        "    'WDC': -3,  # Dropped catches usually have a negative impact\n",
        "    'WST': 4,\n",
        "    'WRO': 4,\n",
        "    'WMRO': -2, # Missed run outs can be detrimental\n",
        "    'WDH': 3,\n",
        "    'RS_weight': 1 # Runs Saved can be directly added or weighted\n",
        "}\n",
        "\n",
        "# You'll need to count the occurrences of each event for each player\n",
        "# This can be done by grouping your DataFrame by 'Player Name' and then counting\n",
        "# specific events based on your 'Pick', 'Throw', and 'Short Description' columns.\n",
        "# For example, to count catches:\n",
        "# player_catches = df[df['Pick'] == 'catch'].groupby('Player Name').size()\n",
        "\n",
        "# To calculate the PS for each player, you'll need to aggregate the counts of each event\n",
        "# and the sum of 'Runs' for each player, and then apply the formula.\n",
        "\n",
        "# This is a simplified example focusing on how to apply the formula once you have the counts\n",
        "# Let's assume you have calculated the counts for each player and stored them\n",
        "# in a new DataFrame or a dictionary keyed by player name.\n",
        "# For demonstration, let's create a dummy structure for one player\n",
        "# In reality, you would calculate these counts from your df\n",
        "\n",
        "# Example for one player (replace with your actual calculation logic)\n",
        "player_data = {\n",
        "    'Clean Picks': 10,\n",
        "    'Good Throws': 8,\n",
        "    'Catches': 3,\n",
        "    'Dropped Catches': 1,\n",
        "    'Stumpings': 0,\n",
        "    'Run Outs': 1,\n",
        "    'Missed Run Outs': 0,\n",
        "    'Direct Hits': 2,\n",
        "    'Runs Saved': 5 # Total runs saved by this player\n",
        "}\n",
        "\n",
        "# Calculate the Performance Score for this player\n",
        "ps = (player_data['Clean Picks'] * weights['WCP']) + \\\n",
        "     (player_data['Good Throws'] * weights['WGT']) + \\\n",
        "     (player_data['Catches'] * weights['WC']) + \\\n",
        "     (player_data['Dropped Catches'] * weights['WDC']) + \\\n",
        "     (player_data['Stumpings'] * weights['WST']) + \\\n",
        "     (player_data['Run Outs'] * weights['WRO']) + \\\n",
        "     (player_data['Missed Run Outs'] * weights['WMRO']) + \\\n",
        "     (player_data['Direct Hits'] * weights['WDH']) + \\\n",
        "     (player_data['Runs Saved'] * weights['RS_weight'])\n",
        "\n",
        "print(f\"Performance Score: {ps}\")\n",
        "\n",
        "# You would repeat this calculation for each player in your dataset."
      ],
      "cell_type": "code",
      "metadata": {
        "colab": {
          "base_uri": "https://localhost:8080/"
        },
        "id": "CDhlbOzKJGAn",
        "outputId": "ffff0ba6-33af-4475-d133-e50202bd8df9"
      },
      "execution_count": 3,
      "outputs": [
        {
          "output_type": "stream",
          "name": "stdout",
          "text": [
            "    Pick                                                Y->  Clean Pick  \\\n",
            "0  Throw                                                Y->  Good Throw   \n",
            "1   Runs  \"+\" stands for runs saved \"-\" stands for runs ...         NaN   \n",
            "2    NaN                                                NaN         NaN   \n",
            "3    NaN                                          Match No.     Innings   \n",
            "4    NaN                                            IPL2367           1   \n",
            "\n",
            "              N->         Fumble        C->             Catch  DC->  \\\n",
            "0             N->      Bad throw       DH->         Dirct Hit  RO->   \n",
            "1             NaN            NaN        NaN               NaN   NaN   \n",
            "2             NaN            NaN        NaN               NaN   NaN   \n",
            "3           Teams    Player Name  BallCount          Position  Pick   \n",
            "4  Delhi Capitals  Rilee russouw        0.1  Short mid wicket     n   \n",
            "\n",
            "  Dropped Catch   S->       Stumping Unnamed: 11          Unnamed: 12  \n",
            "0       Run Out  MR->  Missed Runout         NaN                  NaN  \n",
            "1           NaN   NaN            NaN         NaN                  NaN  \n",
            "2           NaN   NaN            NaN         NaN                  NaN  \n",
            "3         Throw  Runs      Overcount       Venue              Stadium  \n",
            "4           NaN     1              1       Delhi  Arun Jaitly Stadium  \n",
            "Performance Score: 49.0\n"
          ]
        }
      ]
    },
    {
      "source": [
        "# Define your weights (these are example values, replace with your chosen weights)\n",
        "weights = {\n",
        "    'WCP': 1,\n",
        "    'WGT': 1.5,\n",
        "    'WC': 5,\n",
        "    'WDC': -3,  # Dropped catches usually have a negative impact\n",
        "    'WST': 4,\n",
        "    'WRO': 4,\n",
        "    'WMRO': -2, # Missed run outs can be detrimental\n",
        "    'WDH': 3,\n",
        "    'RS_weight': 1 # Runs Saved can be directly added or weighted\n",
        "}\n",
        "\n",
        "# You'll need to count the occurrences of each event for each player\n",
        "# This can be done by grouping your DataFrame by 'Player Name' and then counting\n",
        "# specific events based on your 'Pick', 'Throw', and 'Short Description' columns.\n",
        "# For example, to count catches:\n",
        "# player_catches = df[df['Pick'] == 'catch'].groupby('Player Name').size()\n",
        "\n",
        "# To calculate the PS for each player, you'll need to aggregate the counts of each event\n",
        "# and the sum of 'Runs' for each player, and then apply the formula.\n",
        "\n",
        "# This is a simplified example focusing on how to apply the formula once you have the counts\n",
        "# Let's assume you have calculated the counts for each player and stored them\n",
        "# in a new DataFrame or a dictionary keyed by player name.\n",
        "# For demonstration, let's create a dummy structure for one player\n",
        "# In reality, you would calculate these counts from your df\n",
        "\n",
        "# Example for one player (replace with your actual calculation logic)\n",
        "player_data = {\n",
        "    'Clean Picks': 10,\n",
        "    'Good Throws': 8,\n",
        "    'Catches': 3,\n",
        "    'Dropped Catches': 1,\n",
        "    'Stumpings': 0,\n",
        "    'Run Outs': 1,\n",
        "    'Missed Run Outs': 0,\n",
        "    'Direct Hits': 2,\n",
        "    'Runs Saved': 5 # Total runs saved by this player\n",
        "}\n",
        "\n",
        "# Calculate the Performance Score for this player\n",
        "ps = (player_data['Clean Picks'] * weights['WCP']) + \\\n",
        "     (player_data['Good Throws'] * weights['WGT']) + \\\n",
        "     (player_data['Catches'] * weights['WC']) + \\\n",
        "     (player_data['Dropped Catches'] * weights['WDC']) + \\\n",
        "     (player_data['Stumpings'] * weights['WST']) + \\\n",
        "     (player_data['Run Outs'] * weights['WRO']) + \\\n",
        "     (player_data['Missed Run Outs'] * weights['WMRO']) + \\\n",
        "     (player_data['Direct Hits'] * weights['WDH']) + \\\n",
        "     (player_data['Runs Saved'] * weights['RS_weight'])\n",
        "\n",
        "print(f\"Performance Score: {ps}\")\n",
        "\n",
        "# You would repeat this calculation for each player in your dataset."
      ],
      "cell_type": "code",
      "metadata": {
        "colab": {
          "base_uri": "https://localhost:8080/"
        },
        "id": "9PC5yiWCHirP",
        "outputId": "a18b861d-b63f-44b3-8e49-cb8d8af426cf"
      },
      "execution_count": 1,
      "outputs": [
        {
          "output_type": "stream",
          "name": "stdout",
          "text": [
            "Performance Score: 49.0\n"
          ]
        }
      ]
    }
  ]
}